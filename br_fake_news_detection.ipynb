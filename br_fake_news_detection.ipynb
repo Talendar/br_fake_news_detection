{
  "nbformat": 4,
  "nbformat_minor": 0,
  "metadata": {
    "colab": {
      "name": "br_fake_news_detection.ipynb",
      "provenance": [],
      "authorship_tag": "ABX9TyOlw09qIgMExD0N7Zle/cIL",
      "include_colab_link": true
    },
    "kernelspec": {
      "name": "python3",
      "display_name": "Python 3"
    }
  },
  "cells": [
    {
      "cell_type": "markdown",
      "metadata": {
        "id": "view-in-github",
        "colab_type": "text"
      },
      "source": [
        "<a href=\"https://colab.research.google.com/github/Talendar/br_fake_news_detection/blob/main/br_fake_news_detection.ipynb\" target=\"_parent\"><img src=\"https://colab.research.google.com/assets/colab-badge.svg\" alt=\"Open In Colab\"/></a>"
      ]
    },
    {
      "cell_type": "code",
      "metadata": {
        "id": "xqjGIQgVjyOz"
      },
      "source": [
        "import numpy as np\n",
        "import pandas as pd\n",
        "import os\n",
        "import re\n",
        "\n",
        "%tensorflow_version 2.x\n",
        "import tensorflow as tf\n",
        "\n",
        "from tensorflow.keras.callbacks import Callback\n",
        "from IPython.display import clear_output\n",
        "\n",
        "!git clone https://github.com/roneysco/Fake.br-Corpus\n",
        "DATA_PATH = \"./Fake.br-Corpus/size_normalized_texts\""
      ],
      "execution_count": null,
      "outputs": []
    },
    {
      "cell_type": "code",
      "metadata": {
        "id": "gBiIfJk0mlx5"
      },
      "source": [
        "class ClearCallback(Callback):\n",
        "    \"\"\" Handles the cleaning of the log during the training of a model. \"\"\"\n",
        "\n",
        "    def __init__(self, current_k, total_k):\n",
        "        self._current_k = current_k\n",
        "        self._total_k = total_k\n",
        "\n",
        "    def on_epoch_end(self, epoch, logs=None):\n",
        "        \"\"\" Clears the log. Called when a training epoch ends. \"\"\"\n",
        "        clear_output(wait=True)\n",
        "        print(\"Running %d-folds cross-validation. Current fold: %d.\\n\" % (self._total_k, self._current_k))"
      ],
      "execution_count": 153,
      "outputs": []
    },
    {
      "cell_type": "markdown",
      "metadata": {
        "id": "u7OAYYqsFCWL"
      },
      "source": [
        "#### Loading data ####"
      ]
    },
    {
      "cell_type": "code",
      "metadata": {
        "id": "xXDnyaoZBQc4",
        "outputId": "739d5d82-b129-4a80-a2d7-5f45e30dbcf1",
        "colab": {
          "base_uri": "https://localhost:8080/",
          "height": 419
        }
      },
      "source": [
        "def load_txts(path):\n",
        "    txts = []\n",
        "    for filename in sorted(os.listdir(path), key=lambda x: int(re.match(\"[0-9]+\", x).group())):\n",
        "        with open(os.path.join(path, filename)) as f:\n",
        "            txts.append(f.read())\n",
        "    return txts\n",
        "\n",
        "\n",
        "true_txts = load_txts(os.path.join(DATA_PATH, \"true\"))\n",
        "fake_txts = load_txts(os.path.join(DATA_PATH, \"fake\"))\n",
        "assert(len(true_txts) == len(fake_txts))\n",
        "\n",
        "data = pd.DataFrame( [{\"text\": t, \"label\": 0} for t in true_txts] + [{\"text\": f, \"label\": 1} for f in fake_txts] ).sample(frac=1)\n",
        "pd.set_option('max_colwidth', 200)\n",
        "data"
      ],
      "execution_count": 93,
      "outputs": [
        {
          "output_type": "execute_result",
          "data": {
            "text/html": [
              "<div>\n",
              "<style scoped>\n",
              "    .dataframe tbody tr th:only-of-type {\n",
              "        vertical-align: middle;\n",
              "    }\n",
              "\n",
              "    .dataframe tbody tr th {\n",
              "        vertical-align: top;\n",
              "    }\n",
              "\n",
              "    .dataframe thead th {\n",
              "        text-align: right;\n",
              "    }\n",
              "</style>\n",
              "<table border=\"1\" class=\"dataframe\">\n",
              "  <thead>\n",
              "    <tr style=\"text-align: right;\">\n",
              "      <th></th>\n",
              "      <th>text</th>\n",
              "      <th>label</th>\n",
              "    </tr>\n",
              "  </thead>\n",
              "  <tbody>\n",
              "    <tr>\n",
              "      <th>5009</th>\n",
              "      <td>Após denúncia da Veja, irmã de Aécio publica vídeo e chora: \"Vamos provar que é mentira\". .  Após ser denunciado por uma matéria na Revista Veja neste fim de semana, o senador Aécio Neves se mostr...</td>\n",
              "      <td>1</td>\n",
              "    </tr>\n",
              "    <tr>\n",
              "      <th>1664</th>\n",
              "      <td>Quatro pessoas ficam feridas em acidente entre carro e caminhão na BR-376. Motorista do automóvel sofreu ferimentos graves e foi resgatado pelo helicóptero do Samu nesta terça-feira (23). Em Saran...</td>\n",
              "      <td>0</td>\n",
              "    </tr>\n",
              "    <tr>\n",
              "      <th>2404</th>\n",
              "      <td>Moro aceita denúncia contra Lula e outros 12 por caso envolvendo sítio em Atibaia. Segundo a força-tarefa da Lava Jato, as empreiteiras Odebrecht e OAS compraram e pagaram por melhorias no sítio c...</td>\n",
              "      <td>0</td>\n",
              "    </tr>\n",
              "    <tr>\n",
              "      <th>6795</th>\n",
              "      <td>Reunião urgente do Foro de SP ? Dilma chega à capital paulista para encontrar Lula.  A presidente futura ex-presidente Dilma Rousseff nessa tarde desta em São Paulo para se encontrar com Lula.  Di...</td>\n",
              "      <td>1</td>\n",
              "    </tr>\n",
              "    <tr>\n",
              "      <th>869</th>\n",
              "      <td>No primeiro dia de 2017, um antigo e muito próximo espírito santo de orelha de Michel Miguel Elias Temer Lulia deu-lhe um conselho que ao chefe, então, pareceu promissor. Como não era de sua alçad...</td>\n",
              "      <td>0</td>\n",
              "    </tr>\n",
              "    <tr>\n",
              "      <th>...</th>\n",
              "      <td>...</td>\n",
              "      <td>...</td>\n",
              "    </tr>\n",
              "    <tr>\n",
              "      <th>2188</th>\n",
              "      <td>Um corredor com segurança armado divide o gabinete do juiz Sérgio Moro da sala de audiências no segundo andar do edifício da Justiça Federal, em Curitiba. Uma câmera acoplada no computador registr...</td>\n",
              "      <td>0</td>\n",
              "    </tr>\n",
              "    <tr>\n",
              "      <th>874</th>\n",
              "      <td>Os relatores de propostas que podem alterar o sistema eleitoral brasileiro nas próximas eleições admitiram o óbvio ontem, durante o “Fórum Estadão – Reforma Política em Debate”, realizado em parce...</td>\n",
              "      <td>0</td>\n",
              "    </tr>\n",
              "    <tr>\n",
              "      <th>3971</th>\n",
              "      <td>Evandro Mesquita protesta e chama senadores de vermes: \"Querem calar Sérgio Moro!\". .  Ao ver os problemas políticos e econômicos do Brasil, Mesquita mostrou que é um artista politizado e se manté...</td>\n",
              "      <td>1</td>\n",
              "    </tr>\n",
              "    <tr>\n",
              "      <th>3248</th>\n",
              "      <td>Investigação mostra reais causas de alto preço do pedágio no Paraná, diz procurador da Lava Jato. 48ª fase foi deflagrada nesta quinta-feira (22); seis pessoas foram presas. . O procurador do Mini...</td>\n",
              "      <td>0</td>\n",
              "    </tr>\n",
              "    <tr>\n",
              "      <th>7067</th>\n",
              "      <td>De acordo com a PF,  ele faturou R$ 2, 5 milhões fazendo \"CRTL+C\" e \"CRTL+V\" do site Wikipédia. .  O da PF que investigou os negócios do filho de Lula,  Luis Cláudio Lula da Silva,  apontou que el...</td>\n",
              "      <td>1</td>\n",
              "    </tr>\n",
              "  </tbody>\n",
              "</table>\n",
              "<p>7200 rows × 2 columns</p>\n",
              "</div>"
            ],
            "text/plain": [
              "                                                                                                                                                                                                         text  label\n",
              "5009  Após denúncia da Veja, irmã de Aécio publica vídeo e chora: \"Vamos provar que é mentira\". .  Após ser denunciado por uma matéria na Revista Veja neste fim de semana, o senador Aécio Neves se mostr...      1\n",
              "1664  Quatro pessoas ficam feridas em acidente entre carro e caminhão na BR-376. Motorista do automóvel sofreu ferimentos graves e foi resgatado pelo helicóptero do Samu nesta terça-feira (23). Em Saran...      0\n",
              "2404  Moro aceita denúncia contra Lula e outros 12 por caso envolvendo sítio em Atibaia. Segundo a força-tarefa da Lava Jato, as empreiteiras Odebrecht e OAS compraram e pagaram por melhorias no sítio c...      0\n",
              "6795  Reunião urgente do Foro de SP ? Dilma chega à capital paulista para encontrar Lula.  A presidente futura ex-presidente Dilma Rousseff nessa tarde desta em São Paulo para se encontrar com Lula.  Di...      1\n",
              "869   No primeiro dia de 2017, um antigo e muito próximo espírito santo de orelha de Michel Miguel Elias Temer Lulia deu-lhe um conselho que ao chefe, então, pareceu promissor. Como não era de sua alçad...      0\n",
              "...                                                                                                                                                                                                       ...    ...\n",
              "2188  Um corredor com segurança armado divide o gabinete do juiz Sérgio Moro da sala de audiências no segundo andar do edifício da Justiça Federal, em Curitiba. Uma câmera acoplada no computador registr...      0\n",
              "874   Os relatores de propostas que podem alterar o sistema eleitoral brasileiro nas próximas eleições admitiram o óbvio ontem, durante o “Fórum Estadão – Reforma Política em Debate”, realizado em parce...      0\n",
              "3971  Evandro Mesquita protesta e chama senadores de vermes: \"Querem calar Sérgio Moro!\". .  Ao ver os problemas políticos e econômicos do Brasil, Mesquita mostrou que é um artista politizado e se manté...      1\n",
              "3248  Investigação mostra reais causas de alto preço do pedágio no Paraná, diz procurador da Lava Jato. 48ª fase foi deflagrada nesta quinta-feira (22); seis pessoas foram presas. . O procurador do Mini...      0\n",
              "7067  De acordo com a PF,  ele faturou R$ 2, 5 milhões fazendo \"CRTL+C\" e \"CRTL+V\" do site Wikipédia. .  O da PF que investigou os negócios do filho de Lula,  Luis Cláudio Lula da Silva,  apontou que el...      1\n",
              "\n",
              "[7200 rows x 2 columns]"
            ]
          },
          "metadata": {
            "tags": []
          },
          "execution_count": 93
        }
      ]
    },
    {
      "cell_type": "markdown",
      "metadata": {
        "id": "9RTUm-YNoKU8"
      },
      "source": [
        "# BAG-OF-WORDS"
      ]
    },
    {
      "cell_type": "code",
      "metadata": {
        "id": "4-TfcLz2n_qJ"
      },
      "source": [
        "import nltk\n",
        "nltk.download('stopwords')\n",
        "nltk.download('punkt')\n",
        "nltk.download('rslp')\n",
        "\n",
        "import string\n",
        "from sklearn.feature_extraction.text import CountVectorizer\n",
        "\n",
        "STOPWORDS = nltk.corpus.stopwords.words('portuguese')\n",
        "STEMMER = nltk.stem.RSLPStemmer()"
      ],
      "execution_count": null,
      "outputs": []
    },
    {
      "cell_type": "code",
      "metadata": {
        "id": "JYTNTVKxl-Mp",
        "outputId": "d4b7df3a-a097-4201-c292-21df3faf72bc",
        "colab": {
          "base_uri": "https://localhost:8080/",
          "height": 436
        }
      },
      "source": [
        "def normalize_texts(corpus, stem):\n",
        "    processed_texts = []\n",
        "    counter = 0\n",
        "    for i, row in corpus.iterrows():\n",
        "        clear_output(wait=True)\n",
        "        print(\"[%.2f%%] Processing text %d of %d.\" % (100*(counter+1)/len(corpus), counter+1, len(corpus)))\n",
        "        counter += 1\n",
        "        \n",
        "        text = \" \".join( [   \n",
        "                (w if not stem else STEMMER.stem(w)) \n",
        "                    for w in nltk.tokenize.word_tokenize(row[\"text\"]) if w not in STOPWORDS and w not in string.punctuation\n",
        "        ] )\n",
        "        processed_texts.append({\"text\": text, \"label\": row[\"label\"]})\n",
        "    return pd.DataFrame(processed_texts)\n",
        "\n",
        "norm_data = normalize_texts(data, stem=True)\n",
        "norm_data"
      ],
      "execution_count": 132,
      "outputs": [
        {
          "output_type": "stream",
          "text": [
            "[99.99%] Processing text 7200 of 7200.\n"
          ],
          "name": "stdout"
        },
        {
          "output_type": "execute_result",
          "data": {
            "text/html": [
              "<div>\n",
              "<style scoped>\n",
              "    .dataframe tbody tr th:only-of-type {\n",
              "        vertical-align: middle;\n",
              "    }\n",
              "\n",
              "    .dataframe tbody tr th {\n",
              "        vertical-align: top;\n",
              "    }\n",
              "\n",
              "    .dataframe thead th {\n",
              "        text-align: right;\n",
              "    }\n",
              "</style>\n",
              "<table border=\"1\" class=\"dataframe\">\n",
              "  <thead>\n",
              "    <tr style=\"text-align: right;\">\n",
              "      <th></th>\n",
              "      <th>text</th>\n",
              "      <th>label</th>\n",
              "    </tr>\n",
              "  </thead>\n",
              "  <tbody>\n",
              "    <tr>\n",
              "      <th>0</th>\n",
              "      <td>após denúnc vej irmã aéci publ víde chor `` vam prov ment '' após ser denunci matér revist vej nest fim seman sen aéci nev mostr indign acus receb de acord revist benedict juni execu odebrecht afi...</td>\n",
              "      <td>1</td>\n",
              "    </tr>\n",
              "    <tr>\n",
              "      <th>1</th>\n",
              "      <td>quatr pesso fic fer acid carr caminh br-376 motor automó sofr fer grav resgat helicópter samu nest terça-f 23 em sarand carr peg fog mandaguaçu ônibu escol bat contr mot quatr pesso fic fer acid c...</td>\n",
              "      <td>0</td>\n",
              "    </tr>\n",
              "    <tr>\n",
              "      <th>2</th>\n",
              "      <td>mor aceit denúnc contr lul outr 12 cas envolv síti atiba segund força-taref lav jat empreit odebrecht oa compr pag melh síti form propin ex-presid o juiz sérgi mor aceit nest terça-f 1º denúnc con...</td>\n",
              "      <td>0</td>\n",
              "    </tr>\n",
              "    <tr>\n",
              "      <th>3</th>\n",
              "      <td>reun urgent for sp dilm cheg capit paul encontr lul a presid futur ex-presid dilm rousseff ness tard dest são paul encontr lul dilm vai hosped hotel renaissanc ond far encontr `` secret '' ... tão...</td>\n",
              "      <td>1</td>\n",
              "    </tr>\n",
              "    <tr>\n",
              "      <th>4</th>\n",
              "      <td>no prim dia 2017 antig próx espírit sant orelh michel miguel eli tem lul deu-lh conselh chef ent parec promis com alç massacr result 56 mort complex penitenci anísi jobim manau am dev faz part pre...</td>\n",
              "      <td>0</td>\n",
              "    </tr>\n",
              "    <tr>\n",
              "      <th>...</th>\n",
              "      <td>...</td>\n",
              "      <td>...</td>\n",
              "    </tr>\n",
              "    <tr>\n",
              "      <th>7195</th>\n",
              "      <td>um corr seguranç arm divid gabinet juiz sérgi mor sal audi segund and edifíci justiç feder curitib uma câm acopl comput registr prim depo açã penal luiz ináci lul silv réu acus receb r 3,7 milhã o...</td>\n",
              "      <td>0</td>\n",
              "    </tr>\n",
              "    <tr>\n",
              "      <th>7196</th>\n",
              "      <td>os rela propost pod alter sistem eleitor brasil próx ele admit óbvi ont dur “ fórum estad – reform polít debat ” realiz parc centr lideranç públic discuss send feit congress pan fund inter parlame...</td>\n",
              "      <td>0</td>\n",
              "    </tr>\n",
              "    <tr>\n",
              "      <th>7197</th>\n",
              "      <td>evandr mesquit protest cham sen verm `` quer cal sérgi mor '' ao ver problem polít econôm brasil mesquit mostr artist poli mantém anten lig real o at can declar ser contr trup sen petist formaliz ...</td>\n",
              "      <td>1</td>\n",
              "    </tr>\n",
              "    <tr>\n",
              "      <th>7198</th>\n",
              "      <td>investig mostr real caus alt preç pedági paran diz procur lav jat 48ª fas deflagr nest quinta-f 22 seil pesso pres o procur minist públic feder mpf carl fern sant lim afirm manhã dest quinta-f 22 ...</td>\n",
              "      <td>0</td>\n",
              "    </tr>\n",
              "    <tr>\n",
              "      <th>7199</th>\n",
              "      <td>de acord pf fatur r 2 5 milhã faz `` crtl+c '' `` crtl+v '' sit wikipéd o pf investig negóci filh lul luil cláudi lul silv apont base `` mer reproduç conteúd dispon `` internet `` específ sit wiki...</td>\n",
              "      <td>1</td>\n",
              "    </tr>\n",
              "  </tbody>\n",
              "</table>\n",
              "<p>7200 rows × 2 columns</p>\n",
              "</div>"
            ],
            "text/plain": [
              "                                                                                                                                                                                                         text  label\n",
              "0     após denúnc vej irmã aéci publ víde chor `` vam prov ment '' após ser denunci matér revist vej nest fim seman sen aéci nev mostr indign acus receb de acord revist benedict juni execu odebrecht afi...      1\n",
              "1     quatr pesso fic fer acid carr caminh br-376 motor automó sofr fer grav resgat helicópter samu nest terça-f 23 em sarand carr peg fog mandaguaçu ônibu escol bat contr mot quatr pesso fic fer acid c...      0\n",
              "2     mor aceit denúnc contr lul outr 12 cas envolv síti atiba segund força-taref lav jat empreit odebrecht oa compr pag melh síti form propin ex-presid o juiz sérgi mor aceit nest terça-f 1º denúnc con...      0\n",
              "3     reun urgent for sp dilm cheg capit paul encontr lul a presid futur ex-presid dilm rousseff ness tard dest são paul encontr lul dilm vai hosped hotel renaissanc ond far encontr `` secret '' ... tão...      1\n",
              "4     no prim dia 2017 antig próx espírit sant orelh michel miguel eli tem lul deu-lh conselh chef ent parec promis com alç massacr result 56 mort complex penitenci anísi jobim manau am dev faz part pre...      0\n",
              "...                                                                                                                                                                                                       ...    ...\n",
              "7195  um corr seguranç arm divid gabinet juiz sérgi mor sal audi segund and edifíci justiç feder curitib uma câm acopl comput registr prim depo açã penal luiz ináci lul silv réu acus receb r 3,7 milhã o...      0\n",
              "7196  os rela propost pod alter sistem eleitor brasil próx ele admit óbvi ont dur “ fórum estad – reform polít debat ” realiz parc centr lideranç públic discuss send feit congress pan fund inter parlame...      0\n",
              "7197  evandr mesquit protest cham sen verm `` quer cal sérgi mor '' ao ver problem polít econôm brasil mesquit mostr artist poli mantém anten lig real o at can declar ser contr trup sen petist formaliz ...      1\n",
              "7198  investig mostr real caus alt preç pedági paran diz procur lav jat 48ª fas deflagr nest quinta-f 22 seil pesso pres o procur minist públic feder mpf carl fern sant lim afirm manhã dest quinta-f 22 ...      0\n",
              "7199  de acord pf fatur r 2 5 milhã faz `` crtl+c '' `` crtl+v '' sit wikipéd o pf investig negóci filh lul luil cláudi lul silv apont base `` mer reproduç conteúd dispon `` internet `` específ sit wiki...      1\n",
              "\n",
              "[7200 rows x 2 columns]"
            ]
          },
          "metadata": {
            "tags": []
          },
          "execution_count": 132
        }
      ]
    },
    {
      "cell_type": "code",
      "metadata": {
        "id": "n4e4fDFOQUWp",
        "outputId": "6cbbbbce-4568-4b43-ba9b-7909d0cdced6",
        "colab": {
          "base_uri": "https://localhost:8080/",
          "height": 153
        }
      },
      "source": [
        "# k-fold cross-validation\n",
        "k = 10\n",
        "folds = np.split(norm_data.sample(frac=1), k)\n",
        "\n",
        "accuracies = []\n",
        "for i in range(len(folds)):\n",
        "    # separating data\n",
        "    test_data, test_labels = folds[i][\"text\"].values, folds[i][\"label\"].values\n",
        "    training_data = np.concatenate( [folds[j][\"text\"].values for j in range(len(folds)) if j != i] )\n",
        "    training_labels = np.concatenate( [folds[j][\"label\"].values for j in range(len(folds)) if j != i] )\n",
        "\n",
        "    # extracting features\n",
        "    vectorizer = CountVectorizer(max_features=1000)\n",
        "    training_data = vectorizer.fit_transform(training_data).toarray()  # fit the vectorizer to the training corpus\n",
        "    test_data = vectorizer.transform(test_data).toarray()  # words of the test corpus that don't appear in the training corpus will be ignored!\n",
        "\n",
        "    # preparing model\n",
        "    model = tf.keras.Sequential([\n",
        "        tf.keras.layers.Dense(32, activation=\"relu\", kernel_regularizer=tf.keras.regularizers.l2(1e-3)),\n",
        "        tf.keras.layers.Dense(1, activation=\"sigmoid\")\n",
        "    ])\n",
        "    model.compile(loss=\"binary_crossentropy\",\n",
        "                  optimizer=tf.keras.optimizers.Adam(1e-3),\n",
        "                  metrics=[\"accuracy\"])\n",
        "    \n",
        "    # training\n",
        "    model.fit(training_data, training_labels, epochs=50, \n",
        "              validation_data=(test_data, test_labels), \n",
        "              callbacks=[ClearCallback(i + 1, k)])\n",
        "    \n",
        "    # evaluating\n",
        "    loss, acc = model.evaluate(test_data, test_labels)\n",
        "    accuracies.append(acc)\n",
        "\n",
        "clear_output(wait=True)\n",
        "print(\"\\n Cross-validation finished! Results:\")\n",
        "print(\" . Mean accuracy: %.2f%%\" % (100*np.mean(accuracies)))\n",
        "print(\" . Accuracies std: %.2f%%\" % (100*np.std(accuracies)))"
      ],
      "execution_count": 179,
      "outputs": [
        {
          "output_type": "stream",
          "text": [
            "Running 10-folds cross-validation. Current fold: 10.\n",
            "\n",
            "203/203 [==============================] - 0s 2ms/step - loss: 0.0416 - accuracy: 1.0000 - val_loss: 0.3830 - val_accuracy: 0.8958\n",
            "23/23 [==============================] - 0s 1ms/step - loss: 0.3830 - accuracy: 0.8958\n",
            "\n",
            " Cross-validation finished! Results:\n",
            " . Mean accuracy: 88.65\n",
            " . Accuracies std: 1.61\n"
          ],
          "name": "stdout"
        }
      ]
    },
    {
      "cell_type": "markdown",
      "metadata": {
        "id": "k7aUVc5Wy9ID"
      },
      "source": [
        "# WORD EMBEDDINGS #"
      ]
    },
    {
      "cell_type": "code",
      "metadata": {
        "id": "Cn8o6-GIzGF2"
      },
      "source": [
        ""
      ],
      "execution_count": null,
      "outputs": []
    }
  ]
}